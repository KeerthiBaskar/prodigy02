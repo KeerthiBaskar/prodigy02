{
  "nbformat": 4,
  "nbformat_minor": 0,
  "metadata": {
    "colab": {
      "provenance": [],
      "authorship_tag": "ABX9TyPE1y7Cx7sGRfNhj+nb5wYW",
      "include_colab_link": true
    },
    "kernelspec": {
      "name": "python3",
      "display_name": "Python 3"
    },
    "language_info": {
      "name": "python"
    }
  },
  "cells": [
    {
      "cell_type": "markdown",
      "metadata": {
        "id": "view-in-github",
        "colab_type": "text"
      },
      "source": [
        "<a href=\"https://colab.research.google.com/github/KeerthiBaskar/prodigy02/blob/main/Untitled2.ipynb\" target=\"_parent\"><img src=\"https://colab.research.google.com/assets/colab-badge.svg\" alt=\"Open In Colab\"/></a>"
      ]
    },
    {
      "cell_type": "code",
      "execution_count": null,
      "metadata": {
        "id": "zKj4C9SNNy5k"
      },
      "outputs": [],
      "source": [
        "import numpy as np\n",
        "from sklearn.cluster import KMeans\n",
        "import pandas as pd\n",
        "\n",
        "# Assuming 'data' is a pandas DataFrame containing the purchase history data\n",
        "# with rows as customers and columns as products/features.\n",
        "\n",
        "# Example DataFrame creation (replace this with your actual data)\n",
        "# data = pd.DataFrame({\n",
        "#     'product_1': [5.1, 4.9, 4.7, ...],\n",
        "#     'product_2': [3.5, 3.0, 3.2, ...],\n",
        "#     ...\n",
        "# })\n",
        "\n",
        "# Determine the number of clusters (k)\n",
        "k = 3  # for example, you may want to use the Elbow method to find the optimal k\n",
        "\n",
        "# Create and fit the model\n",
        "kmeans = KMeans(n_clusters=k, random_state=0).fit(data)\n",
        "\n",
        "# Get the cluster labels for each customer\n",
        "data['cluster'] = kmeans.labels_\n",
        "\n",
        "# Now you can analyze the clusters\n",
        "for i in range(k):\n",
        "    cluster_data = data[data['cluster'] == i]\n",
        "    print(f\"Cluster {i}:\")\n",
        "    print(cluster_data.describe())\n"
      ]
    }
  ]
}